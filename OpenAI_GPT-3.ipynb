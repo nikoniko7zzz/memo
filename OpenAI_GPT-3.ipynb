{
 "cells": [
  {
   "cell_type": "markdown",
   "metadata": {},
   "source": [
    "# OpenAI GPT-3を使ってみる\n",
    "[参考url](https://data-analytics.fun/2021/12/01/gpt-3-api/)  \n",
    "[ハンズオンurl](https://github.com/HAGAKURE-PROGRAMMING-ACADEMY/KEIJIBAN/issues/10)\n",
    "APIキーを取得して、最初に何ドルかもらえるから、その範囲で遊んでみる  \n",
    "範囲内だと無料です"
   ]
  },
  {
   "cell_type": "code",
   "execution_count": 44,
   "metadata": {},
   "outputs": [
    {
     "name": "stdout",
     "output_type": "stream",
     "text": [
      "Requirement already satisfied: openai in /Users/niko/Desktop/MyApp/study/python/environment_3_9_7/lib/python3.9/site-packages (0.14.0)\n",
      "Requirement already satisfied: pandas-stubs>=1.1.0.11 in /Users/niko/Desktop/MyApp/study/python/environment_3_9_7/lib/python3.9/site-packages (from openai) (1.2.0.47)\n",
      "Requirement already satisfied: pandas>=1.2.3 in /Users/niko/Desktop/MyApp/study/python/environment_3_9_7/lib/python3.9/site-packages (from openai) (1.4.0)\n",
      "Requirement already satisfied: tqdm in /Users/niko/Desktop/MyApp/study/python/environment_3_9_7/lib/python3.9/site-packages (from openai) (4.62.3)\n",
      "Requirement already satisfied: requests>=2.20 in /Users/niko/Desktop/MyApp/study/python/environment_3_9_7/lib/python3.9/site-packages (from openai) (2.27.1)\n",
      "Requirement already satisfied: openpyxl>=3.0.7 in /Users/niko/Desktop/MyApp/study/python/environment_3_9_7/lib/python3.9/site-packages (from openai) (3.0.9)\n",
      "Requirement already satisfied: et-xmlfile in /Users/niko/Desktop/MyApp/study/python/environment_3_9_7/lib/python3.9/site-packages (from openpyxl>=3.0.7->openai) (1.1.0)\n",
      "Requirement already satisfied: numpy>=1.18.5 in /Users/niko/Desktop/MyApp/study/python/environment_3_9_7/lib/python3.9/site-packages (from pandas>=1.2.3->openai) (1.22.1)\n",
      "Requirement already satisfied: python-dateutil>=2.8.1 in /Users/niko/Desktop/MyApp/study/python/environment_3_9_7/lib/python3.9/site-packages (from pandas>=1.2.3->openai) (2.8.2)\n",
      "Requirement already satisfied: pytz>=2020.1 in /Users/niko/Desktop/MyApp/study/python/environment_3_9_7/lib/python3.9/site-packages (from pandas>=1.2.3->openai) (2021.3)\n",
      "Requirement already satisfied: urllib3<1.27,>=1.21.1 in /Users/niko/Desktop/MyApp/study/python/environment_3_9_7/lib/python3.9/site-packages (from requests>=2.20->openai) (1.26.8)\n",
      "Requirement already satisfied: charset-normalizer~=2.0.0 in /Users/niko/Desktop/MyApp/study/python/environment_3_9_7/lib/python3.9/site-packages (from requests>=2.20->openai) (2.0.10)\n",
      "Requirement already satisfied: idna<4,>=2.5 in /Users/niko/Desktop/MyApp/study/python/environment_3_9_7/lib/python3.9/site-packages (from requests>=2.20->openai) (3.3)\n",
      "Requirement already satisfied: certifi>=2017.4.17 in /Users/niko/Desktop/MyApp/study/python/environment_3_9_7/lib/python3.9/site-packages (from requests>=2.20->openai) (2021.10.8)\n",
      "Requirement already satisfied: six>=1.5 in /Users/niko/Desktop/MyApp/study/python/environment_3_9_7/lib/python3.9/site-packages (from python-dateutil>=2.8.1->pandas>=1.2.3->openai) (1.16.0)\n",
      "\u001b[33mWARNING: You are using pip version 21.3.1; however, version 22.0.3 is available.\n",
      "You should consider upgrading via the '/Users/niko/Desktop/MyApp/study/python/environment_3_9_7/bin/python -m pip install --upgrade pip' command.\u001b[0m\n",
      "Note: you may need to restart the kernel to use updated packages.\n"
     ]
    }
   ],
   "source": [
    "pip install openai"
   ]
  },
  {
   "cell_type": "code",
   "execution_count": 17,
   "metadata": {},
   "outputs": [
    {
     "name": "stdout",
     "output_type": "stream",
     "text": [
      "Collecting python-dotenv\n",
      "  Downloading python_dotenv-0.19.2-py2.py3-none-any.whl (17 kB)\n",
      "Installing collected packages: python-dotenv\n",
      "Successfully installed python-dotenv-0.19.2\n",
      "\u001b[33mWARNING: You are using pip version 21.3.1; however, version 22.0.3 is available.\n",
      "You should consider upgrading via the '/Users/niko/Desktop/MyApp/study/python/environment_3_9_7/bin/python -m pip install --upgrade pip' command.\u001b[0m\n",
      "Note: you may need to restart the kernel to use updated packages.\n"
     ]
    }
   ],
   "source": [
    "pip install python-dotenv"
   ]
  },
  {
   "cell_type": "code",
   "execution_count": 2,
   "metadata": {},
   "outputs": [
    {
     "data": {
      "text/plain": [
       "True"
      ]
     },
     "execution_count": 2,
     "metadata": {},
     "output_type": "execute_result"
    }
   ],
   "source": [
    "from dotenv import load_dotenv\n",
    "load_dotenv()"
   ]
  },
  {
   "cell_type": "code",
   "execution_count": 3,
   "metadata": {},
   "outputs": [],
   "source": [
    "import os\n",
    "# import subprocess\n",
    "import openai"
   ]
  },
  {
   "cell_type": "code",
   "execution_count": 4,
   "metadata": {},
   "outputs": [],
   "source": [
    "# Load your API key from an environment variable or secret management service\n",
    "openai.api_key = os.getenv(\"OPENAI_API_KEY\")"
   ]
  },
  {
   "cell_type": "code",
   "execution_count": 7,
   "metadata": {},
   "outputs": [
    {
     "name": "stdout",
     "output_type": "stream",
     "text": [
      "いろいろあるけど 一番簡単なのは 以下のように テーブルの属性に のみ 属性値を書いて 要素を繋げる という方法が一般的です\n",
      "\n",
      "<table border=\"1\"> <tr> <th>曜日</th> <th>時間</th> <th>食事</th> <th>洗濯</th> <th>掃除</th> </tr> <tr> <td>月曜日</td> <td>7時半〜10時</td> <td>昼はパン</\n"
     ]
    }
   ],
   "source": [
    "def openai_response(text):\n",
    "  response = openai.Completion.create(\n",
    "    engine=\"davinci\",\n",
    "    prompt=text,\n",
    "    temperature=0.7, #0から2の範囲を取り、出力する単語のランダム性を指定します。\n",
    "    max_tokens=200, \n",
    "    top_p=1, #小さくすればするほど候補が確率の高いものに絞られるため、確定的になっていきます。\n",
    "    frequency_penalty=0, #-2.0から2.0の値を取り、出てきた回数が多いほどペナルティを大きくするものです。\n",
    "    presence_penalty=0 #-2.0から2.0の値を取り、既に出てきた単語をもう一度使うかどうかを指定します\n",
    "  )\n",
    "  return response[\"choices\"][0][\"text\"]\n",
    "\n",
    "\n",
    "if __name__ == '__main__':\n",
    "  test_text = '''\n",
    "  htmlでtableのコードの書き方は\n",
    "  '''\n",
    "  print(openai_response(test_text)) "
   ]
  },
  {
   "cell_type": "markdown",
   "metadata": {},
   "source": [
    "- コード教えてくれた！"
   ]
  },
  {
   "cell_type": "code",
   "execution_count": 14,
   "metadata": {},
   "outputs": [
    {
     "name": "stdout",
     "output_type": "stream",
     "text": [
      "\n",
      "\n",
      "質問: これは何ですか \n",
      " 回答: What is this? \n",
      " 質問: これは何ですか \n",
      " 回答: What is this? \n",
      "\n"
     ]
    }
   ],
   "source": [
    "def openai_response(text):\n",
    "  response = openai.Completion.create(\n",
    "    engine=\"davinci\",\n",
    "    prompt=text, # \n",
    "    temperature=0.2,\n",
    "    max_tokens=64, \n",
    "    top_p=1,\n",
    "    frequency_penalty=0,\n",
    "    presence_penalty=0\n",
    "  )\n",
    "  return response[\"choices\"][0][\"text\"]\n",
    "\n",
    "\n",
    "if __name__ == '__main__':\n",
    "  test_text = '''\n",
    "  質問: このりんごは美味しい\n",
    "  回答: This apple is delicious\n",
    "  質問: 道を教えてください\n",
    "  回答: please tell me the way\n",
    "  質問: 犬の散歩に行ってきます\n",
    "  回答: \n",
    "  '''\n",
    "  print(openai_response(test_text)) "
   ]
  },
  {
   "cell_type": "markdown",
   "metadata": {},
   "source": [
    "- 回答してくれるかと思ったら、英語の問題を作ってくれた！"
   ]
  },
  {
   "cell_type": "code",
   "execution_count": 77,
   "metadata": {},
   "outputs": [
    {
     "name": "stdout",
     "output_type": "stream",
     "text": [
      "\n",
      "\n",
      "「私たちの住む家は、毎日が楽しくて、素敵な時間を過ごせる\n"
     ]
    }
   ],
   "source": [
    "def openai_response(text):\n",
    "  response = openai.Completion.create(\n",
    "    engine=\"davinci\",\n",
    "    prompt=text, # \n",
    "    temperature=0.2,\n",
    "    max_tokens=50, \n",
    "    top_p=1,\n",
    "    frequency_penalty=0,\n",
    "    presence_penalty=0\n",
    "  )\n",
    "  return response[\"choices\"][0][\"text\"]\n",
    "\n",
    "\n",
    "if __name__ == '__main__':\n",
    "  test_text = \"シンプルでおしゃれな家のキャッチフレーズは？\"\n",
    "  print(openai_response(test_text)) "
   ]
  },
  {
   "cell_type": "markdown",
   "metadata": {},
   "source": [
    "- なんか返してくれた!"
   ]
  }
 ],
 "metadata": {
  "interpreter": {
   "hash": "cacbfc12332d92f38e73347cfb9d89166cfdbd214fef3d08d82cb37cf58fe57e"
  },
  "kernelspec": {
   "display_name": "Python 3.9.10 64-bit ('environment_3_9_7': venv)",
   "language": "python",
   "name": "python3"
  },
  "language_info": {
   "codemirror_mode": {
    "name": "ipython",
    "version": 3
   },
   "file_extension": ".py",
   "mimetype": "text/x-python",
   "name": "python",
   "nbconvert_exporter": "python",
   "pygments_lexer": "ipython3",
   "version": "3.9.10"
  },
  "orig_nbformat": 4
 },
 "nbformat": 4,
 "nbformat_minor": 2
}
